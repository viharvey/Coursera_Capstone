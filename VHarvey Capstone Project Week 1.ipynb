{
 "cells": [
  {
   "cell_type": "markdown",
   "metadata": {},
   "source": [
    "## Academic Institutions and Sustainable Communities in the City of Los Angeles"
   ]
  },
  {
   "cell_type": "markdown",
   "metadata": {},
   "source": [
    "###  V. I. Harvey "
   ]
  },
  {
   "cell_type": "markdown",
   "metadata": {},
   "source": [
    "**Week 1 Peer-graded Assignment - IBM Data Science Capstone Project**"
   ]
  },
  {
   "cell_type": "markdown",
   "metadata": {},
   "source": [
    "------------------------------------------------------------------------------------------"
   ]
  },
  {
   "cell_type": "markdown",
   "metadata": {},
   "source": [
    "### Introduction\n",
    "\n",
    "This study explores the venue density distribution as well as median income of neighborhoods around two major universities in the city of Los Angeles, California: University of California, Los Angeles (UCLA) and University of Southern California (USC). In exploring these data the question asked is: In what ways do these institutions impact their surrounding communities? The impact that an academic institution can have on its surrounding community can be seen in the relationship that the Georgia Institute of Technology has established with its nearby neighborhood Vine City in Atlanta, Georgia.\n",
    "\n",
    "Vine City is a neighborhood two miles away from Georgia Tech. It is an inner-city neighborhood which over a 30-year span suffered “a loss of population, property divestment, and general economic decline” (Urban collage, Inc., 2004). The neighborhood has a median income of $26,752 (Point 2, 2020). Georgia Tech, along with other academic institutions, joined the effort to revitalize Vine City and help make it a sustainable community. The condition of Vine City and Georgia Tech’s response highlights the role that an academic institution can take in  using its resources to support an under-resourced community within miles of it.\n",
    "\n",
    "This study looks at the condition of the neighborhoods that surround two academic institutions in the city of Los Angeles, principally looking at the venue density distribution using Foursquare API and the median income of the surrounding neighborhoods using data compiled by the Los Angeles Times."
   ]
  },
  {
   "cell_type": "markdown",
   "metadata": {},
   "source": [
    "### Data\n",
    "\n",
    "The venue density data will be gathered using Foursquare API, a location data provider. It provides data on a place or venue: its geographical location, category, address, etc.  When given geographical coordinates and radius, venue types – gyms, restaurants, schools, parks – can be located within that radius. The venue density data for a community is helpful in determining its economic and social vitality and sustainability.\n",
    "\n",
    "The Los Angeles Times provides a resource online that lists neighborhood information, crime data, demographics and school information (Los Angeles Times, 2020). For Los Angeles’ 272 neighborhoods, the LA Times database compiles the median household income data, population, ethnicity, education level, median age, household size, family size, military population, and ancestry and immigration data. This information will be important in evaluating not only the economic standing of the neighborhoods around the academic institution but also the demographics of those neighborhoods."
   ]
  },
  {
   "cell_type": "markdown",
   "metadata": {},
   "source": [
    "### References\n",
    "\n",
    "Los Angeles Times. (2020, August 1). Median Income Ranking - Mapping L.A. . Retrieved from Los Angeles Times: https://maps.latimes.com/neighborhoods/income/median/neighborhood/list/\n",
    "\n",
    "Point 2. (2020, August 3). Vine City population & demographics, median income. Retrieved from Point 2: https://www.point2homes.com/US/Neighborhood/GA/Atlanta/Vine-City.html\n",
    "\n",
    "Urban collage, Inc. in collaboration with Robert Charles Lesser & Co. (2004, September). Vine city redevelopment plan: Volume I - final report. Retrieved August 1, 2020, from www.atlantaga.gov/Home/showDocument?id=3074\n",
    "\n",
    "\n"
   ]
  }
 ],
 "metadata": {
  "kernelspec": {
   "display_name": "Python 3",
   "language": "python",
   "name": "python3"
  },
  "language_info": {
   "codemirror_mode": {
    "name": "ipython",
    "version": 3
   },
   "file_extension": ".py",
   "mimetype": "text/x-python",
   "name": "python",
   "nbconvert_exporter": "python",
   "pygments_lexer": "ipython3",
   "version": "3.8.2"
  }
 },
 "nbformat": 4,
 "nbformat_minor": 4
}
